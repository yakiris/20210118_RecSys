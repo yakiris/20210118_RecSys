{
 "cells": [
  {
   "cell_type": "markdown",
   "id": "d8c55610",
   "metadata": {},
   "source": [
    "## Тема: 1. Введение, примеры задач, бизнес- и ML-метрики"
   ]
  },
  {
   "cell_type": "code",
   "execution_count": 1,
   "id": "176c904e",
   "metadata": {},
   "outputs": [],
   "source": [
    "import numpy as np\n",
    "import pandas as pd"
   ]
  },
  {
   "cell_type": "code",
   "execution_count": 2,
   "id": "2c01c9c9",
   "metadata": {},
   "outputs": [],
   "source": [
    "recommended_list = [143, 156, 1134, 991, 27, 1543, 3345, 533, 11, 43]\n",
    "prices_recommended_list = [10, 20, 30, 40, 50, 60, 70, 80, 90, 100]\n",
    "bought_list = [521, 32, 143, 991]"
   ]
  },
  {
   "cell_type": "markdown",
   "id": "71345f3b",
   "metadata": {},
   "source": [
    "### Hit rate@k"
   ]
  },
  {
   "cell_type": "code",
   "execution_count": 3,
   "id": "2a00f72f",
   "metadata": {},
   "outputs": [],
   "source": [
    "def hit_rate_at_k(recommended_list, bought_list, k=5):\n",
    "    \n",
    "    bought_list = np.array(bought_list)\n",
    "    recommended_list = np.array(recommended_list)[:k]\n",
    "    flags = np.isin(bought_list, recommended_list)\n",
    "    \n",
    "    hit_rate = (flags.sum() > 0).astype(int)\n",
    "    \n",
    "    return hit_rate"
   ]
  },
  {
   "cell_type": "code",
   "execution_count": 4,
   "id": "5eadc2cd",
   "metadata": {},
   "outputs": [
    {
     "data": {
      "text/plain": [
       "1"
      ]
     },
     "execution_count": 4,
     "metadata": {},
     "output_type": "execute_result"
    }
   ],
   "source": [
    "hit_rate_at_k(recommended_list, bought_list, k=4)"
   ]
  },
  {
   "cell_type": "markdown",
   "id": "8eddb27e",
   "metadata": {},
   "source": [
    "### Money Precision@k"
   ]
  },
  {
   "cell_type": "code",
   "execution_count": 5,
   "id": "8bcf95c3",
   "metadata": {},
   "outputs": [],
   "source": [
    "def money_precision_at_k(recommended_list, bought_list, prices_recommended_list, k=5):\n",
    "        \n",
    "    bought_list = np.array(bought_list)\n",
    "    recommended_list = np.array(recommended_list)[:k]\n",
    "    prices_recommended_list = np.array(prices_recommended_list)[:k]\n",
    "    \n",
    "    flags = np.isin(recommended_list, bought_list)\n",
    "\n",
    "    sum_flags = np.dot(flags, prices_recommended_list)\n",
    "    \n",
    "    precision = sum_flags / np.sum(prices_recommended_list)\n",
    "    \n",
    "    return precision"
   ]
  },
  {
   "cell_type": "code",
   "execution_count": 6,
   "id": "957cfb05",
   "metadata": {},
   "outputs": [
    {
     "data": {
      "text/plain": [
       "0.5"
      ]
     },
     "execution_count": 6,
     "metadata": {},
     "output_type": "execute_result"
    }
   ],
   "source": [
    "money_precision_at_k(recommended_list, bought_list, prices_recommended_list, k=4)"
   ]
  },
  {
   "cell_type": "markdown",
   "id": "11570945",
   "metadata": {},
   "source": [
    "### Recall@k"
   ]
  },
  {
   "cell_type": "code",
   "execution_count": 7,
   "id": "9148d779",
   "metadata": {},
   "outputs": [],
   "source": [
    "def recall_at_k(recommended_list, bought_list, k=5):\n",
    "    \n",
    "    bought_list = np.array(bought_list)\n",
    "    recommended_list = np.array(recommended_list)[:k]\n",
    "    \n",
    "    flags = np.isin(bought_list, recommended_list)\n",
    "    \n",
    "    recall = flags.sum() / len(bought_list)\n",
    "    \n",
    "    return recall"
   ]
  },
  {
   "cell_type": "code",
   "execution_count": 8,
   "id": "1c3b250e",
   "metadata": {},
   "outputs": [
    {
     "data": {
      "text/plain": [
       "0.5"
      ]
     },
     "execution_count": 8,
     "metadata": {},
     "output_type": "execute_result"
    }
   ],
   "source": [
    "recall_at_k(recommended_list, bought_list, k=4)"
   ]
  },
  {
   "cell_type": "markdown",
   "id": "b657af3a",
   "metadata": {},
   "source": [
    "### Money Recall@k"
   ]
  },
  {
   "cell_type": "code",
   "execution_count": 9,
   "id": "199795a8",
   "metadata": {},
   "outputs": [],
   "source": [
    "def money_recall_at_k(recommended_list, bought_list, prices_recommended_list, k=5):\n",
    "    \n",
    "    bought_list = np.array(bought_list)\n",
    "    recommended_list = np.array(recommended_list)[:k]\n",
    "    prices_recommended_list = np.array(prices_recommended_list)[:k]\n",
    "    \n",
    "    flags = np.isin(recommended_list, bought_list)\n",
    "    \n",
    "    sum_flags = np.dot(flags, prices_recommended_list)\n",
    "    \n",
    "    recall = sum_flags / len(bought_list)\n",
    "    \n",
    "    return recall"
   ]
  },
  {
   "cell_type": "code",
   "execution_count": 10,
   "id": "3616179f",
   "metadata": {},
   "outputs": [
    {
     "data": {
      "text/plain": [
       "12.5"
      ]
     },
     "execution_count": 10,
     "metadata": {},
     "output_type": "execute_result"
    }
   ],
   "source": [
    "money_recall_at_k(recommended_list, bought_list, prices_recommended_list, k=4)"
   ]
  },
  {
   "cell_type": "markdown",
   "id": "1b0ba24b",
   "metadata": {},
   "source": [
    "### MAP@k"
   ]
  },
  {
   "cell_type": "code",
   "execution_count": 11,
   "id": "4b5b748f",
   "metadata": {},
   "outputs": [
    {
     "data": {
      "text/plain": [
       "[[521, 156, 143, 991], [143, 558, 11, 84], [1543, 533, 11, 27]]"
      ]
     },
     "execution_count": 11,
     "metadata": {},
     "output_type": "execute_result"
    }
   ],
   "source": [
    "bought_list1 = [521, 156, 143, 991]\n",
    "bought_list2 = [143, 558, 11, 84]\n",
    "bought_list3 = [1543, 533, 11, 27]\n",
    "bought_list_all = [bought_list1, bought_list2, bought_list3]\n",
    "bought_list_all"
   ]
  },
  {
   "cell_type": "code",
   "execution_count": 12,
   "id": "f645e95c",
   "metadata": {},
   "outputs": [],
   "source": [
    "def precision_at_k(recommended_list, bought_list, k=5):\n",
    "    \n",
    "    bought_list = np.array(bought_list)\n",
    "    recommended_list = np.array(recommended_list)[:k]\n",
    "    \n",
    "    flags = np.isin(bought_list, recommended_list)\n",
    "    \n",
    "    precision = flags.sum() / len(recommended_list)\n",
    "    \n",
    "    return precision\n",
    "\n",
    "def map_k(recommended_list, bought_list_all, k=5):\n",
    "    \n",
    "    recommended_list = np.array(recommended_list)[:k]\n",
    "    all_users = len(bought_list_all)\n",
    "    sum_all = 0\n",
    "    \n",
    "    for i in range(0, all_users):\n",
    "        bought_list = np.array(bought_list_all[i])\n",
    "        flags = np.isin(recommended_list, bought_list)\n",
    "\n",
    "        sum_ = 0\n",
    "        for j in range(0, k):\n",
    "            if flags[j] == True:\n",
    "                p_k = precision_at_k(recommended_list, bought_list, k=j+1)\n",
    "                sum_ += p_k\n",
    "        sum_all += sum_ / k\n",
    "    \n",
    "    return sum_all / all_users"
   ]
  },
  {
   "cell_type": "code",
   "execution_count": 13,
   "id": "037bc7ab",
   "metadata": {},
   "outputs": [
    {
     "data": {
      "text/plain": [
       "0.3125"
      ]
     },
     "execution_count": 13,
     "metadata": {},
     "output_type": "execute_result"
    }
   ],
   "source": [
    "map_k(recommended_list, bought_list_all, k=4)"
   ]
  },
  {
   "cell_type": "markdown",
   "id": "0ba7c9f4",
   "metadata": {},
   "source": [
    "### \\* NDCG@k "
   ]
  },
  {
   "cell_type": "code",
   "execution_count": 14,
   "id": "d4377d73",
   "metadata": {},
   "outputs": [],
   "source": [
    "def dcg_at_k(recommended_list, bought_list_all, k=5):\n",
    "    \n",
    "    recommended_list = np.array(recommended_list)[:k]\n",
    "    all_users = len(bought_list_all)\n",
    "    sum_all = 0\n",
    "    \n",
    "    for i in range(0, all_users):\n",
    "        bought_list = np.array(bought_list_all[i])\n",
    "        flags = np.isin(recommended_list, bought_list)\n",
    "\n",
    "        sum_ = 0\n",
    "        for i in range(1, k+1):\n",
    "            if i == 1 and flags[i-1] == True:\n",
    "                sum_ += 1\n",
    "            elif i != 1 and flags[i-1] == True:\n",
    "                sum_ += 1/np.log2(i+1)\n",
    "\n",
    "        sum_all += sum_ / k\n",
    "           \n",
    "    return sum_all / all_users"
   ]
  },
  {
   "cell_type": "code",
   "execution_count": 15,
   "id": "a8cab56d",
   "metadata": {},
   "outputs": [
    {
     "data": {
      "text/plain": [
       "0.1811745859994007"
      ]
     },
     "execution_count": 15,
     "metadata": {},
     "output_type": "execute_result"
    }
   ],
   "source": [
    "dcg_at_k(recommended_list, bought_list_all, k=7)"
   ]
  },
  {
   "cell_type": "code",
   "execution_count": 16,
   "id": "7707946d",
   "metadata": {},
   "outputs": [],
   "source": [
    "def ideal_dcg_at_k(k=5):\n",
    "    \n",
    "    if k == 1: \n",
    "        return 1\n",
    "    \n",
    "    sum_ = 1\n",
    "    for i in range(2, k+1):\n",
    "        sum_ += 1/np.log2(i+1)\n",
    "           \n",
    "    return sum_ / k   "
   ]
  },
  {
   "cell_type": "code",
   "execution_count": 17,
   "id": "b9d99c1a",
   "metadata": {},
   "outputs": [
    {
     "data": {
      "text/plain": [
       "0.5197142341886783"
      ]
     },
     "execution_count": 17,
     "metadata": {},
     "output_type": "execute_result"
    }
   ],
   "source": [
    "ideal_dcg_at_k(k=7)"
   ]
  },
  {
   "cell_type": "code",
   "execution_count": 18,
   "id": "829722cb",
   "metadata": {},
   "outputs": [],
   "source": [
    "def ndcg_at_k(recommended_list, bought_list_all, k=5):\n",
    "    \n",
    "    dcg = dcg_at_k(recommended_list, bought_list_all, k)\n",
    "    ideal_dcg = ideal_dcg_at_k(k)\n",
    "\n",
    "    return dcg / ideal_dcg"
   ]
  },
  {
   "cell_type": "code",
   "execution_count": 19,
   "id": "efb1d049",
   "metadata": {},
   "outputs": [
    {
     "data": {
      "text/plain": [
       "0.34860424071746055"
      ]
     },
     "execution_count": 19,
     "metadata": {},
     "output_type": "execute_result"
    }
   ],
   "source": [
    "ndcg_at_k(recommended_list, bought_list_all, k=7)"
   ]
  },
  {
   "cell_type": "markdown",
   "id": "b56b32c1",
   "metadata": {},
   "source": [
    "### MRR@k"
   ]
  },
  {
   "cell_type": "code",
   "execution_count": 20,
   "id": "0c4768d7",
   "metadata": {},
   "outputs": [],
   "source": [
    "def reciprocal_rank_at_k(recommended_list, bought_list, k=5):\n",
    "    \n",
    "    ranks = 0\n",
    "    for item_rec in recommended_list[:k]:\n",
    "        for i, item_bought in enumerate(bought_list):\n",
    "            if item_rec == item_bought:\n",
    "                ranks += 1 / (i+1)\n",
    "                \n",
    "    return ranks / k"
   ]
  },
  {
   "cell_type": "code",
   "execution_count": 21,
   "id": "7b5d5d2b",
   "metadata": {},
   "outputs": [
    {
     "data": {
      "text/plain": [
       "0.14583333333333331"
      ]
     },
     "execution_count": 21,
     "metadata": {},
     "output_type": "execute_result"
    }
   ],
   "source": [
    "reciprocal_rank_at_k(recommended_list, bought_list, k=4)"
   ]
  },
  {
   "cell_type": "markdown",
   "id": "3c8c8b73",
   "metadata": {},
   "source": [
    "### \\* AP для ранжирования по примеру"
   ]
  },
  {
   "cell_type": "code",
   "execution_count": 22,
   "id": "e6ffc23a",
   "metadata": {},
   "outputs": [
    {
     "data": {
      "text/plain": [
       "[143, 156, 1134, 991, 27, 1543, 3345, 533, 11, 43]"
      ]
     },
     "execution_count": 22,
     "metadata": {},
     "output_type": "execute_result"
    }
   ],
   "source": [
    "recommended_list"
   ]
  },
  {
   "cell_type": "code",
   "execution_count": 23,
   "id": "e7f34951",
   "metadata": {},
   "outputs": [],
   "source": [
    "bought_list_example = [143, 151, 1134, 991, 270, 1543, 345, 535] "
   ]
  },
  {
   "cell_type": "code",
   "execution_count": 24,
   "id": "d59f0122",
   "metadata": {},
   "outputs": [],
   "source": [
    "def ap_k_example(recommended_list, bought_list, k=5):\n",
    "    \n",
    "    bought_list = np.array(bought_list)\n",
    "    recommended_list = np.array(recommended_list)\n",
    "    \n",
    "    flags = np.isin(recommended_list, bought_list)\n",
    "\n",
    "    if sum(flags) == 0:\n",
    "        return 0\n",
    "    \n",
    "    sum_ = 0\n",
    "    num_true = 0\n",
    "    for i in range(0, k-1): \n",
    "        if flags[i] == True:\n",
    "            num_true += 1\n",
    "            sum_ += round(num_true/(i+1), 2)\n",
    "        print(f'{num_true} - {sum_}')\n",
    "\n",
    "    result = sum_ / sum(flags)\n",
    "    \n",
    "    return round(result, 2)"
   ]
  },
  {
   "cell_type": "code",
   "execution_count": 25,
   "id": "fce062da",
   "metadata": {},
   "outputs": [
    {
     "name": "stdout",
     "output_type": "stream",
     "text": [
      "1 - 1.0\n",
      "1 - 1.0\n",
      "2 - 1.67\n",
      "3 - 2.42\n",
      "3 - 2.42\n",
      "4 - 3.09\n",
      "4 - 3.09\n"
     ]
    },
    {
     "data": {
      "text/plain": [
       "0.77"
      ]
     },
     "execution_count": 25,
     "metadata": {},
     "output_type": "execute_result"
    }
   ],
   "source": [
    "ap_k_example(recommended_list, bought_list_example, k=8)"
   ]
  },
  {
   "cell_type": "code",
   "execution_count": null,
   "id": "fb2f6a11",
   "metadata": {},
   "outputs": [],
   "source": []
  }
 ],
 "metadata": {
  "kernelspec": {
   "display_name": "Python 3",
   "language": "python",
   "name": "python3"
  },
  "language_info": {
   "codemirror_mode": {
    "name": "ipython",
    "version": 3
   },
   "file_extension": ".py",
   "mimetype": "text/x-python",
   "name": "python",
   "nbconvert_exporter": "python",
   "pygments_lexer": "ipython3",
   "version": "3.8.8"
  }
 },
 "nbformat": 4,
 "nbformat_minor": 5
}
